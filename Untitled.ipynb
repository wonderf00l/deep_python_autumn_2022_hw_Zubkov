{
 "cells": [
  {
   "cell_type": "code",
   "execution_count": 1,
   "id": "49030ab2",
   "metadata": {},
   "outputs": [],
   "source": [
    "import sys"
   ]
  },
  {
   "cell_type": "code",
   "execution_count": 2,
   "id": "baeec916",
   "metadata": {},
   "outputs": [
    {
     "name": "stdout",
     "output_type": "stream",
     "text": [
      "init 2\n",
      "lst2 3\n",
      "lst3 4\n",
      "tp 5\n",
      "del 2\n",
      "count_refs 4\n",
      "call 2\n"
     ]
    }
   ],
   "source": [
    "lst = [1, 2, 3]\n",
    "print(\"init\", sys.getrefcount(lst))\n",
    "\n",
    "lst2 = lst\n",
    "print(\"lst2\", sys.getrefcount(lst))\n",
    "\n",
    "lst3 = lst\n",
    "print(\"lst3\", sys.getrefcount(lst))\n",
    "\n",
    "tp = (4, 5, lst)\n",
    "print(\"tp\", sys.getrefcount(lst))\n",
    "\n",
    "del lst2, lst3, tp\n",
    "print(\"del\", sys.getrefcount(lst))\n",
    "\n",
    "def count_refs(obj):\n",
    "    print(\"count_refs\", sys.getrefcount(obj))\n",
    "\n",
    "count_refs(lst)\n",
    "print(\"call\", sys.getrefcount(lst))"
   ]
  },
  {
   "cell_type": "code",
   "execution_count": 3,
   "id": "73f08052",
   "metadata": {},
   "outputs": [],
   "source": [
    "import ctypes, gc"
   ]
  },
  {
   "cell_type": "code",
   "execution_count": 5,
   "id": "dcdd9d8f",
   "metadata": {},
   "outputs": [
    {
     "name": "stdout",
     "output_type": "stream",
     "text": [
      "cty 1\n"
     ]
    }
   ],
   "source": [
    "class PyObject(ctypes.Structure):\n",
    "    _fields_ = [(\"refcnt\", ctypes.c_long)]\n",
    "\n",
    "\n",
    "lst1 = [1, 2, 3]\n",
    "lst1.append(lst1)\n",
    "\n",
    "lst_id = id(lst1)\n",
    "\n",
    "del lst1\n",
    "\n",
    "#print(\"sys\", sys.getrefcount(lst1))\n",
    "print(\"cty\", PyObject.from_address(lst_id).refcnt)"
   ]
  },
  {
   "cell_type": "code",
   "execution_count": 4,
   "id": "b33a75f6",
   "metadata": {},
   "outputs": [
    {
     "name": "stdout",
     "output_type": "stream",
     "text": [
      "cty 0\n"
     ]
    }
   ],
   "source": [
    "class PyObject(ctypes.Structure):\n",
    "    _fields_ = [(\"refcnt\", ctypes.c_long)]\n",
    "\n",
    "\n",
    "gc.disable()\n",
    "\n",
    "lst1 = [1, 2, 3]\n",
    "lst1.append(lst1)\n",
    "\n",
    "lst_id = id(lst1)\n",
    "\n",
    "del lst1\n",
    "\n",
    "gc.collect() # gc удаляент циклическую ссылку\n",
    "gc.enable()\n",
    "\n",
    "#print(\"sys\", sys.getrefcount(lst1))\n",
    "print(\"cty\", PyObject.from_address(lst_id).refcnt)"
   ]
  },
  {
   "cell_type": "code",
   "execution_count": 7,
   "id": "040d071d",
   "metadata": {},
   "outputs": [],
   "source": [
    "import weakref\n",
    "# Некоторые встроенные типы, такие как list и dict, не поддерживают слабые ссылки напрямую, но могут добавить поддержку посредством создания подклассов"
   ]
  },
  {
   "cell_type": "code",
   "execution_count": 8,
   "id": "f4f84ef1",
   "metadata": {},
   "outputs": [
    {
     "name": "stdout",
     "output_type": "stream",
     "text": [
      "init 2\n",
      "weak 2\n",
      "obj2 3\n",
      "weak 36484 None\n"
     ]
    }
   ],
   "source": [
    "class A:\n",
    "    pass\n",
    "\n",
    "\n",
    "obj = A()\n",
    "print(\"init\", sys.getrefcount(obj))\n",
    "\n",
    "weak = weakref.ref(obj) # применим к структурам, которые содержат ссылки на др. структуры\n",
    "print(\"weak\", sys.getrefcount(obj)) # применим к пользовательским классам\n",
    "\n",
    "obj2 = weak()\n",
    "print(\"obj2\", sys.getrefcount(obj))\n",
    "\n",
    "del obj, obj2\n",
    "\n",
    "obj3 = weak()\n",
    "print(\"weak\", sys.getrefcount(obj3), obj3)"
   ]
  },
  {
   "cell_type": "code",
   "execution_count": null,
   "id": "5cb9e567",
   "metadata": {},
   "outputs": [],
   "source": [
    "class Engine:\n",
    "    def __init__(self, car):\n",
    "        self.car = weakref.ref(car)\n",
    "\n",
    "\n",
    "class Car:\n",
    "    def __init__(self):\n",
    "        self.engine = Engine(self)\n",
    "\n",
    "\n",
    "car = Car() # после удаления car удалится экземпляр класса Car и далее удалится экземпляр класса Engine engine"
   ]
  }
 ],
 "metadata": {
  "kernelspec": {
   "display_name": "Python 3 (ipykernel)",
   "language": "python",
   "name": "python3"
  },
  "language_info": {
   "codemirror_mode": {
    "name": "ipython",
    "version": 3
   },
   "file_extension": ".py",
   "mimetype": "text/x-python",
   "name": "python",
   "nbconvert_exporter": "python",
   "pygments_lexer": "ipython3",
   "version": "3.10.6"
  }
 },
 "nbformat": 4,
 "nbformat_minor": 5
}
